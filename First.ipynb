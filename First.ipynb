{
 "cells": [
  {
   "cell_type": "markdown",
   "metadata": {},
   "source": [
    "# First\r\n",
    "\r\n",
    "Self made practices with basic algorithms\r\n",
    "\r\n",
    "# Primes for learning basics\r\n",
    "\r\n",
    "## Getting started"
   ]
  },
  {
   "cell_type": "code",
   "execution_count": 1,
   "metadata": {
    "dotnet_interactive": {
     "language": "fsharp"
    },
    "polyglot_notebook": {
     "kernelName": "fsharp"
    }
   },
   "outputs": [],
   "source": [
    "let isPrime number = \n",
    "    if number = 2 \n",
    "        then true\n",
    "        else if number < 2 \n",
    "            then false\n",
    "            else 2 :: [3 .. 2 .. number-1] |> List.filter (fun divider -> number % divider = 0) |> List.isEmpty\n",
    "\n",
    "let printNumAndRes number = \n",
    "    printfn \"%d is %s!\" number (if isPrime number then \"prime\" else \"not prime\")\n",
    "\n",
    "[1 .. 20] |> List.iter printNumAndRes"
   ]
  },
  {
   "cell_type": "markdown",
   "metadata": {},
   "source": [
    "## Wrong\r\n",
    "\r\n",
    "From years of imperative programming if is the first keyword came into my mind but it is much better with match"
   ]
  },
  {
   "cell_type": "code",
   "execution_count": 2,
   "metadata": {
    "dotnet_interactive": {
     "language": "fsharp"
    },
    "polyglot_notebook": {
     "kernelName": "fsharp"
    }
   },
   "outputs": [],
   "source": [
    "let isPrime number = \r\n",
    "    match number with \r\n",
    "    | x when x < 2 -> false\r\n",
    "    | 2 -> true\r\n",
    "    | _ -> 2 :: [3 .. 2 .. number-1] |> List.filter (fun divider -> number % divider = 0) |> List.isEmpty\r\n",
    "\r\n",
    "// Looks great\r\n",
    "\r\n",
    "[1 .. 20] |> List.iter printNumAndRes"
   ]
  },
  {
   "cell_type": "markdown",
   "metadata": {},
   "source": [
    "## Recursion"
   ]
  },
  {
   "cell_type": "code",
   "execution_count": 3,
   "metadata": {
    "dotnet_interactive": {
     "language": "fsharp"
    },
    "polyglot_notebook": {
     "kernelName": "fsharp"
    }
   },
   "outputs": [],
   "source": [
    "let rec nextPrime actualNumber =\n",
    "\n",
    "    let nextNumber = actualNumber + 1\n",
    "\n",
    "    match isPrime nextNumber with\n",
    "    | true -> nextNumber\n",
    "    | false -> nextPrime nextNumber\n",
    "\n",
    "nextPrime 7"
   ]
  },
  {
   "cell_type": "markdown",
   "metadata": {},
   "source": [
    "## Find prime with mutable internal variable"
   ]
  },
  {
   "cell_type": "code",
   "execution_count": 11,
   "metadata": {
    "dotnet_interactive": {
     "language": "fsharp"
    },
    "polyglot_notebook": {
     "kernelName": "fsharp"
    }
   },
   "outputs": [],
   "source": [
    "let findPrime nth =\r\n",
    "\r\n",
    "    let mutable prime = 2\r\n",
    "\r\n",
    "    for _ in [2..nth] do\r\n",
    "        prime <- nextPrime prime\r\n",
    "\r\n",
    "    prime\r\n",
    "   \r\n",
    "\r\n",
    "findPrime 10"
   ]
  },
  {
   "cell_type": "markdown",
   "metadata": {},
   "source": [
    "## WO mutable internal variable"
   ]
  },
  {
   "cell_type": "code",
   "execution_count": 12,
   "metadata": {
    "dotnet_interactive": {
     "language": "fsharp"
    },
    "polyglot_notebook": {
     "kernelName": "fsharp"
    }
   },
   "outputs": [],
   "source": [
    "let rec findPrimeRec nth  = \r\n",
    "    if nth > 0\r\n",
    "        then nextPrime (findPrimeRec nth-1)\r\n",
    "        else nextPrime 2\r\n",
    "\r\n",
    "findPrime 10"
   ]
  },
  {
   "cell_type": "markdown",
   "metadata": {},
   "source": [
    "## Calculus\r\n",
    "\r\n",
    "### Inplace integration\r\n",
    "\r\n"
   ]
  },
  {
   "cell_type": "code",
   "execution_count": 75,
   "metadata": {
    "dotnet_interactive": {
     "language": "fsharp"
    },
    "polyglot_notebook": {
     "kernelName": "fsharp"
    }
   },
   "outputs": [],
   "source": [
    "#r \"nuget: Plotly.NET.Interactive, 5.0.0\"\r\n",
    "\r\n",
    "open System\r\n",
    "open Plotly.NET\r\n",
    "\r\n",
    "// funtion definitions\r\n",
    "\r\n",
    "let listBuilder from until step =\r\n",
    "    [0 .. (int)((until-from)/step)] |> List.map (fun e -> double e * step + from)\r\n",
    "\r\n",
    "\r\n",
    "let integrate (y_list: list<double>) (x_list: list<double>) =\r\n",
    "\r\n",
    "    (0.0, (y_list |>  List.windowed 2, x_list |> List.windowed 2) \r\n",
    "        ||> List.map2 (fun y x -> (y.[1] + y.[0]) / 2.0 * (x.[1] - x.[0])))\r\n",
    "            ||> List.scan (fun acc y -> acc+y)\r\n",
    "\r\n",
    "let differentiate (y_list: list<double>) (x_list: list<double>) =\r\n",
    "    \r\n",
    "    (y_list |>  List.windowed 2, x_list |> List.windowed 2) \r\n",
    "        ||> List.map2 (fun y x -> (y.[1] - y.[0]) / (x.[1] - x.[0]))\r\n",
    "\r\n",
    "// evaluation\r\n",
    "\r\n",
    "let t = listBuilder 0.0 (2.0 * 2.0 * float Math.PI) 0.01\r\n",
    "\r\n",
    "let cos = t |> List.map (fun x -> double (Math.Cos x))\r\n",
    "    \r\n",
    "let cos_integrated = integrate cos t\r\n",
    "let cos_differentiated = differentiate cos t\r\n",
    "\r\n",
    "[\r\n",
    "    Chart.Line(t, cos, Name = \"Cos(x)\")\r\n",
    "    Chart.Line(t, cos_integrated, Name = \"Integral of Cos(x) dx\")\r\n",
    "    //Chart.Line(t, cos_differentiated)\r\n",
    "\r\n",
    "] |> Chart.combine  |> Chart.withLegendStyle(\r\n",
    "                            Orientation = StyleParam.Orientation.Horizontal,\r\n",
    "                            X = 0.5,\r\n",
    "                            XAnchor = StyleParam.XAnchorPosition.Center)"
   ]
  },
  {
   "cell_type": "code",
   "execution_count": 64,
   "metadata": {
    "dotnet_interactive": {
     "language": "fsharp"
    },
    "polyglot_notebook": {
     "kernelName": "fsharp"
    }
   },
   "outputs": [],
   "source": [
    "a.Length"
   ]
  }
 ],
 "metadata": {
  "polyglot_notebook": {
   "kernelInfo": {
    "defaultKernelName": "csharp",
    "items": [
     {
      "aliases": [],
      "languageName": "csharp",
      "name": "csharp"
     }
    ]
   }
  },
  "metadata": {
   "kernelspec": {
    "display_name": ".NET (C#)",
    "language": "C#",
    "name": ".net-csharp"
   },
   "polyglot_notebook": {
    "kernelInfo": {
     "defaultKernelName": "csharp",
     "items": [
      {
       "aliases": [],
       "languageName": "csharp",
       "name": "csharp"
      }
     ]
    }
   }
  },
  "kernelInfo": {
   "defaultKernelName": null,
   "items": [
    {
     "name": "csharp",
     "languageName": "C#",
     "aliases": [
      "c#",
      "cs"
     ]
    },
    {
     "name": "fsharp",
     "languageName": "F#",
     "aliases": [
      "f#",
      "fs"
     ]
    },
    {
     "name": "pwsh",
     "languageName": "PowerShell",
     "aliases": [
      "powershell"
     ]
    },
    {
     "name": "javascript",
     "languageName": "JavaScript",
     "aliases": [
      "js"
     ]
    },
    {
     "name": "html",
     "languageName": "HTML"
    },
    {
     "name": "sql",
     "languageName": "SQL"
    },
    {
     "name": "kql",
     "languageName": "KQL"
    },
    {
     "name": "mermaid",
     "languageName": "Mermaid"
    },
    {
     "name": "http",
     "languageName": "HTTP"
    },
    {
     "name": "value"
    }
   ]
  }
 },
 "nbformat": 4,
 "nbformat_minor": 5
}